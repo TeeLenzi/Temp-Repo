{
  "cells": [
    {
      "cell_type": "markdown",
      "id": "71ca502a-429b-42cd-9c32-f31aa8843c5c",
      "metadata": {
        "id": "71ca502a-429b-42cd-9c32-f31aa8843c5c"
      },
      "source": [
        "**Thapelo Lenzi**"
      ]
    },
    {
      "cell_type": "markdown",
      "id": "bf605c6e-3a5d-44be-bb7c-f45d4d268d9b",
      "metadata": {
        "id": "bf605c6e-3a5d-44be-bb7c-f45d4d268d9b"
      },
      "source": [
        "**Python Visualization Using Matplotlib**"
      ]
    },
    {
      "cell_type": "markdown",
      "id": "7478617b-f5dc-49f0-ada5-b80710bcc2d8",
      "metadata": {
        "id": "7478617b-f5dc-49f0-ada5-b80710bcc2d8"
      },
      "source": [
        "The analysis to follow makes use the Netflix userbase dataset from Kaggle which provides insights into user behaviour\n",
        "and preferences. The main aim of this analysis is to showcase data analysis and visualization skills from our training."
      ]
    },
    {
      "cell_type": "markdown",
      "id": "9af78f69",
      "metadata": {
        "id": "9af78f69"
      },
      "source": [
        "**Libraries**"
      ]
    },
    {
      "cell_type": "code",
      "execution_count": 1,
      "id": "388cec80-0b8d-4852-8190-9a064ca2c7db",
      "metadata": {
        "id": "388cec80-0b8d-4852-8190-9a064ca2c7db"
      },
      "outputs": [],
      "source": [
        "#Necessary libraries\n",
        "import numpy as np\n",
        "import matplotlib.pyplot as plot\n",
        "from matplotlib import style\n",
        "import pandas as pd"
      ]
    },
    {
      "cell_type": "markdown",
      "id": "73c101dc",
      "metadata": {
        "id": "73c101dc"
      },
      "source": [
        "**Data Extraction**"
      ]
    },
    {
      "cell_type": "code",
      "execution_count": 2,
      "id": "2e4807a3-af2f-42ba-975c-86098da1f442",
      "metadata": {
        "id": "2e4807a3-af2f-42ba-975c-86098da1f442"
      },
      "outputs": [],
      "source": [
        "# Extracting data\n",
        "data = pd.read_csv(\"Netflix Userbase.csv\")"
      ]
    },
    {
      "cell_type": "markdown",
      "id": "b43e8b64",
      "metadata": {
        "id": "b43e8b64"
      },
      "source": [
        "**Analysing The Data**"
      ]
    },
    {
      "cell_type": "code",
      "execution_count": 3,
      "id": "1b6877f8-e111-4d5c-b089-cb7296231eb6",
      "metadata": {
        "colab": {
          "base_uri": "https://localhost:8080/",
          "height": 631
        },
        "id": "1b6877f8-e111-4d5c-b089-cb7296231eb6",
        "outputId": "423fcdb0-90cf-49fc-dd6b-b801abede5fe",
        "scrolled": true
      },
      "outputs": [
        {
          "data": {
            "application/vnd.google.colaboratory.intrinsic+json": {
              "summary": "{\n  \"name\": \"data\",\n  \"rows\": 2500,\n  \"fields\": [\n    {\n      \"column\": \"User ID\",\n      \"properties\": {\n        \"dtype\": \"number\",\n        \"std\": 721,\n        \"min\": 1,\n        \"max\": 2500,\n        \"num_unique_values\": 2500,\n        \"samples\": [\n          1448,\n          1115,\n          1065\n        ],\n        \"semantic_type\": \"\",\n        \"description\": \"\"\n      }\n    },\n    {\n      \"column\": \"Subscription Type\",\n      \"properties\": {\n        \"dtype\": \"category\",\n        \"num_unique_values\": 3,\n        \"samples\": [\n          \"Basic\",\n          \"Premium\",\n          \"Standard\"\n        ],\n        \"semantic_type\": \"\",\n        \"description\": \"\"\n      }\n    },\n    {\n      \"column\": \"Monthly Revenue\",\n      \"properties\": {\n        \"dtype\": \"number\",\n        \"std\": 1,\n        \"min\": 10,\n        \"max\": 15,\n        \"num_unique_values\": 6,\n        \"samples\": [\n          10,\n          15,\n          14\n        ],\n        \"semantic_type\": \"\",\n        \"description\": \"\"\n      }\n    },\n    {\n      \"column\": \"Join Date\",\n      \"properties\": {\n        \"dtype\": \"object\",\n        \"num_unique_values\": 300,\n        \"samples\": [\n          \"02-08-22\",\n          \"18-08-22\",\n          \"16-07-22\"\n        ],\n        \"semantic_type\": \"\",\n        \"description\": \"\"\n      }\n    },\n    {\n      \"column\": \"Last Payment Date\",\n      \"properties\": {\n        \"dtype\": \"object\",\n        \"num_unique_values\": 26,\n        \"samples\": [\n          \"20-06-23\",\n          \"06-07-23\",\n          \"10-06-23\"\n        ],\n        \"semantic_type\": \"\",\n        \"description\": \"\"\n      }\n    },\n    {\n      \"column\": \"Country\",\n      \"properties\": {\n        \"dtype\": \"category\",\n        \"num_unique_values\": 10,\n        \"samples\": [\n          \"Spain\",\n          \"Canada\",\n          \"France\"\n        ],\n        \"semantic_type\": \"\",\n        \"description\": \"\"\n      }\n    },\n    {\n      \"column\": \"Age\",\n      \"properties\": {\n        \"dtype\": \"number\",\n        \"std\": 7,\n        \"min\": 26,\n        \"max\": 51,\n        \"num_unique_values\": 26,\n        \"samples\": [\n          37,\n          30,\n          28\n        ],\n        \"semantic_type\": \"\",\n        \"description\": \"\"\n      }\n    },\n    {\n      \"column\": \"Gender\",\n      \"properties\": {\n        \"dtype\": \"category\",\n        \"num_unique_values\": 2,\n        \"samples\": [\n          \"Female\",\n          \"Male\"\n        ],\n        \"semantic_type\": \"\",\n        \"description\": \"\"\n      }\n    },\n    {\n      \"column\": \"Device\",\n      \"properties\": {\n        \"dtype\": \"category\",\n        \"num_unique_values\": 4,\n        \"samples\": [\n          \"Tablet\",\n          \"Laptop\"\n        ],\n        \"semantic_type\": \"\",\n        \"description\": \"\"\n      }\n    },\n    {\n      \"column\": \"Plan Duration\",\n      \"properties\": {\n        \"dtype\": \"category\",\n        \"num_unique_values\": 1,\n        \"samples\": [\n          \"1 Month\"\n        ],\n        \"semantic_type\": \"\",\n        \"description\": \"\"\n      }\n    }\n  ]\n}",
              "type": "dataframe",
              "variable_name": "data"
            },
            "text/html": [
              "\n",
              "  <div id=\"df-046be265-a0f4-47f7-becb-ff80f1d27bea\" class=\"colab-df-container\">\n",
              "    <div>\n",
              "<style scoped>\n",
              "    .dataframe tbody tr th:only-of-type {\n",
              "        vertical-align: middle;\n",
              "    }\n",
              "\n",
              "    .dataframe tbody tr th {\n",
              "        vertical-align: top;\n",
              "    }\n",
              "\n",
              "    .dataframe thead th {\n",
              "        text-align: right;\n",
              "    }\n",
              "</style>\n",
              "<table border=\"1\" class=\"dataframe\">\n",
              "  <thead>\n",
              "    <tr style=\"text-align: right;\">\n",
              "      <th></th>\n",
              "      <th>User ID</th>\n",
              "      <th>Subscription Type</th>\n",
              "      <th>Monthly Revenue</th>\n",
              "      <th>Join Date</th>\n",
              "      <th>Last Payment Date</th>\n",
              "      <th>Country</th>\n",
              "      <th>Age</th>\n",
              "      <th>Gender</th>\n",
              "      <th>Device</th>\n",
              "      <th>Plan Duration</th>\n",
              "    </tr>\n",
              "  </thead>\n",
              "  <tbody>\n",
              "    <tr>\n",
              "      <th>0</th>\n",
              "      <td>1</td>\n",
              "      <td>Basic</td>\n",
              "      <td>10</td>\n",
              "      <td>15-01-22</td>\n",
              "      <td>10-06-23</td>\n",
              "      <td>United States</td>\n",
              "      <td>28</td>\n",
              "      <td>Male</td>\n",
              "      <td>Smartphone</td>\n",
              "      <td>1 Month</td>\n",
              "    </tr>\n",
              "    <tr>\n",
              "      <th>1</th>\n",
              "      <td>2</td>\n",
              "      <td>Premium</td>\n",
              "      <td>15</td>\n",
              "      <td>05-09-21</td>\n",
              "      <td>22-06-23</td>\n",
              "      <td>Canada</td>\n",
              "      <td>35</td>\n",
              "      <td>Female</td>\n",
              "      <td>Tablet</td>\n",
              "      <td>1 Month</td>\n",
              "    </tr>\n",
              "    <tr>\n",
              "      <th>2</th>\n",
              "      <td>3</td>\n",
              "      <td>Standard</td>\n",
              "      <td>12</td>\n",
              "      <td>28-02-23</td>\n",
              "      <td>27-06-23</td>\n",
              "      <td>United Kingdom</td>\n",
              "      <td>42</td>\n",
              "      <td>Male</td>\n",
              "      <td>Smart TV</td>\n",
              "      <td>1 Month</td>\n",
              "    </tr>\n",
              "    <tr>\n",
              "      <th>3</th>\n",
              "      <td>4</td>\n",
              "      <td>Standard</td>\n",
              "      <td>12</td>\n",
              "      <td>10-07-22</td>\n",
              "      <td>26-06-23</td>\n",
              "      <td>Australia</td>\n",
              "      <td>51</td>\n",
              "      <td>Female</td>\n",
              "      <td>Laptop</td>\n",
              "      <td>1 Month</td>\n",
              "    </tr>\n",
              "    <tr>\n",
              "      <th>4</th>\n",
              "      <td>5</td>\n",
              "      <td>Basic</td>\n",
              "      <td>10</td>\n",
              "      <td>01-05-23</td>\n",
              "      <td>28-06-23</td>\n",
              "      <td>Germany</td>\n",
              "      <td>33</td>\n",
              "      <td>Male</td>\n",
              "      <td>Smartphone</td>\n",
              "      <td>1 Month</td>\n",
              "    </tr>\n",
              "    <tr>\n",
              "      <th>...</th>\n",
              "      <td>...</td>\n",
              "      <td>...</td>\n",
              "      <td>...</td>\n",
              "      <td>...</td>\n",
              "      <td>...</td>\n",
              "      <td>...</td>\n",
              "      <td>...</td>\n",
              "      <td>...</td>\n",
              "      <td>...</td>\n",
              "      <td>...</td>\n",
              "    </tr>\n",
              "    <tr>\n",
              "      <th>2495</th>\n",
              "      <td>2496</td>\n",
              "      <td>Premium</td>\n",
              "      <td>14</td>\n",
              "      <td>25-07-22</td>\n",
              "      <td>12-07-23</td>\n",
              "      <td>Spain</td>\n",
              "      <td>28</td>\n",
              "      <td>Female</td>\n",
              "      <td>Smart TV</td>\n",
              "      <td>1 Month</td>\n",
              "    </tr>\n",
              "    <tr>\n",
              "      <th>2496</th>\n",
              "      <td>2497</td>\n",
              "      <td>Basic</td>\n",
              "      <td>15</td>\n",
              "      <td>04-08-22</td>\n",
              "      <td>14-07-23</td>\n",
              "      <td>Spain</td>\n",
              "      <td>33</td>\n",
              "      <td>Female</td>\n",
              "      <td>Smart TV</td>\n",
              "      <td>1 Month</td>\n",
              "    </tr>\n",
              "    <tr>\n",
              "      <th>2497</th>\n",
              "      <td>2498</td>\n",
              "      <td>Standard</td>\n",
              "      <td>12</td>\n",
              "      <td>09-08-22</td>\n",
              "      <td>15-07-23</td>\n",
              "      <td>United States</td>\n",
              "      <td>38</td>\n",
              "      <td>Male</td>\n",
              "      <td>Laptop</td>\n",
              "      <td>1 Month</td>\n",
              "    </tr>\n",
              "    <tr>\n",
              "      <th>2498</th>\n",
              "      <td>2499</td>\n",
              "      <td>Standard</td>\n",
              "      <td>13</td>\n",
              "      <td>12-08-22</td>\n",
              "      <td>12-07-23</td>\n",
              "      <td>Canada</td>\n",
              "      <td>48</td>\n",
              "      <td>Female</td>\n",
              "      <td>Tablet</td>\n",
              "      <td>1 Month</td>\n",
              "    </tr>\n",
              "    <tr>\n",
              "      <th>2499</th>\n",
              "      <td>2500</td>\n",
              "      <td>Basic</td>\n",
              "      <td>15</td>\n",
              "      <td>13-08-22</td>\n",
              "      <td>12-07-23</td>\n",
              "      <td>United States</td>\n",
              "      <td>35</td>\n",
              "      <td>Female</td>\n",
              "      <td>Smart TV</td>\n",
              "      <td>1 Month</td>\n",
              "    </tr>\n",
              "  </tbody>\n",
              "</table>\n",
              "<p>2500 rows × 10 columns</p>\n",
              "</div>\n",
              "    <div class=\"colab-df-buttons\">\n",
              "\n",
              "  <div class=\"colab-df-container\">\n",
              "    <button class=\"colab-df-convert\" onclick=\"convertToInteractive('df-046be265-a0f4-47f7-becb-ff80f1d27bea')\"\n",
              "            title=\"Convert this dataframe to an interactive table.\"\n",
              "            style=\"display:none;\">\n",
              "\n",
              "  <svg xmlns=\"http://www.w3.org/2000/svg\" height=\"24px\" viewBox=\"0 -960 960 960\">\n",
              "    <path d=\"M120-120v-720h720v720H120Zm60-500h600v-160H180v160Zm220 220h160v-160H400v160Zm0 220h160v-160H400v160ZM180-400h160v-160H180v160Zm440 0h160v-160H620v160ZM180-180h160v-160H180v160Zm440 0h160v-160H620v160Z\"/>\n",
              "  </svg>\n",
              "    </button>\n",
              "\n",
              "  <style>\n",
              "    .colab-df-container {\n",
              "      display:flex;\n",
              "      gap: 12px;\n",
              "    }\n",
              "\n",
              "    .colab-df-convert {\n",
              "      background-color: #E8F0FE;\n",
              "      border: none;\n",
              "      border-radius: 50%;\n",
              "      cursor: pointer;\n",
              "      display: none;\n",
              "      fill: #1967D2;\n",
              "      height: 32px;\n",
              "      padding: 0 0 0 0;\n",
              "      width: 32px;\n",
              "    }\n",
              "\n",
              "    .colab-df-convert:hover {\n",
              "      background-color: #E2EBFA;\n",
              "      box-shadow: 0px 1px 2px rgba(60, 64, 67, 0.3), 0px 1px 3px 1px rgba(60, 64, 67, 0.15);\n",
              "      fill: #174EA6;\n",
              "    }\n",
              "\n",
              "    .colab-df-buttons div {\n",
              "      margin-bottom: 4px;\n",
              "    }\n",
              "\n",
              "    [theme=dark] .colab-df-convert {\n",
              "      background-color: #3B4455;\n",
              "      fill: #D2E3FC;\n",
              "    }\n",
              "\n",
              "    [theme=dark] .colab-df-convert:hover {\n",
              "      background-color: #434B5C;\n",
              "      box-shadow: 0px 1px 3px 1px rgba(0, 0, 0, 0.15);\n",
              "      filter: drop-shadow(0px 1px 2px rgba(0, 0, 0, 0.3));\n",
              "      fill: #FFFFFF;\n",
              "    }\n",
              "  </style>\n",
              "\n",
              "    <script>\n",
              "      const buttonEl =\n",
              "        document.querySelector('#df-046be265-a0f4-47f7-becb-ff80f1d27bea button.colab-df-convert');\n",
              "      buttonEl.style.display =\n",
              "        google.colab.kernel.accessAllowed ? 'block' : 'none';\n",
              "\n",
              "      async function convertToInteractive(key) {\n",
              "        const element = document.querySelector('#df-046be265-a0f4-47f7-becb-ff80f1d27bea');\n",
              "        const dataTable =\n",
              "          await google.colab.kernel.invokeFunction('convertToInteractive',\n",
              "                                                    [key], {});\n",
              "        if (!dataTable) return;\n",
              "\n",
              "        const docLinkHtml = 'Like what you see? Visit the ' +\n",
              "          '<a target=\"_blank\" href=https://colab.research.google.com/notebooks/data_table.ipynb>data table notebook</a>'\n",
              "          + ' to learn more about interactive tables.';\n",
              "        element.innerHTML = '';\n",
              "        dataTable['output_type'] = 'display_data';\n",
              "        await google.colab.output.renderOutput(dataTable, element);\n",
              "        const docLink = document.createElement('div');\n",
              "        docLink.innerHTML = docLinkHtml;\n",
              "        element.appendChild(docLink);\n",
              "      }\n",
              "    </script>\n",
              "  </div>\n",
              "\n",
              "\n",
              "<div id=\"df-a288d67a-f2d4-4ba4-b0a6-26f51208bb36\">\n",
              "  <button class=\"colab-df-quickchart\" onclick=\"quickchart('df-a288d67a-f2d4-4ba4-b0a6-26f51208bb36')\"\n",
              "            title=\"Suggest charts\"\n",
              "            style=\"display:none;\">\n",
              "\n",
              "<svg xmlns=\"http://www.w3.org/2000/svg\" height=\"24px\"viewBox=\"0 0 24 24\"\n",
              "     width=\"24px\">\n",
              "    <g>\n",
              "        <path d=\"M19 3H5c-1.1 0-2 .9-2 2v14c0 1.1.9 2 2 2h14c1.1 0 2-.9 2-2V5c0-1.1-.9-2-2-2zM9 17H7v-7h2v7zm4 0h-2V7h2v10zm4 0h-2v-4h2v4z\"/>\n",
              "    </g>\n",
              "</svg>\n",
              "  </button>\n",
              "\n",
              "<style>\n",
              "  .colab-df-quickchart {\n",
              "      --bg-color: #E8F0FE;\n",
              "      --fill-color: #1967D2;\n",
              "      --hover-bg-color: #E2EBFA;\n",
              "      --hover-fill-color: #174EA6;\n",
              "      --disabled-fill-color: #AAA;\n",
              "      --disabled-bg-color: #DDD;\n",
              "  }\n",
              "\n",
              "  [theme=dark] .colab-df-quickchart {\n",
              "      --bg-color: #3B4455;\n",
              "      --fill-color: #D2E3FC;\n",
              "      --hover-bg-color: #434B5C;\n",
              "      --hover-fill-color: #FFFFFF;\n",
              "      --disabled-bg-color: #3B4455;\n",
              "      --disabled-fill-color: #666;\n",
              "  }\n",
              "\n",
              "  .colab-df-quickchart {\n",
              "    background-color: var(--bg-color);\n",
              "    border: none;\n",
              "    border-radius: 50%;\n",
              "    cursor: pointer;\n",
              "    display: none;\n",
              "    fill: var(--fill-color);\n",
              "    height: 32px;\n",
              "    padding: 0;\n",
              "    width: 32px;\n",
              "  }\n",
              "\n",
              "  .colab-df-quickchart:hover {\n",
              "    background-color: var(--hover-bg-color);\n",
              "    box-shadow: 0 1px 2px rgba(60, 64, 67, 0.3), 0 1px 3px 1px rgba(60, 64, 67, 0.15);\n",
              "    fill: var(--button-hover-fill-color);\n",
              "  }\n",
              "\n",
              "  .colab-df-quickchart-complete:disabled,\n",
              "  .colab-df-quickchart-complete:disabled:hover {\n",
              "    background-color: var(--disabled-bg-color);\n",
              "    fill: var(--disabled-fill-color);\n",
              "    box-shadow: none;\n",
              "  }\n",
              "\n",
              "  .colab-df-spinner {\n",
              "    border: 2px solid var(--fill-color);\n",
              "    border-color: transparent;\n",
              "    border-bottom-color: var(--fill-color);\n",
              "    animation:\n",
              "      spin 1s steps(1) infinite;\n",
              "  }\n",
              "\n",
              "  @keyframes spin {\n",
              "    0% {\n",
              "      border-color: transparent;\n",
              "      border-bottom-color: var(--fill-color);\n",
              "      border-left-color: var(--fill-color);\n",
              "    }\n",
              "    20% {\n",
              "      border-color: transparent;\n",
              "      border-left-color: var(--fill-color);\n",
              "      border-top-color: var(--fill-color);\n",
              "    }\n",
              "    30% {\n",
              "      border-color: transparent;\n",
              "      border-left-color: var(--fill-color);\n",
              "      border-top-color: var(--fill-color);\n",
              "      border-right-color: var(--fill-color);\n",
              "    }\n",
              "    40% {\n",
              "      border-color: transparent;\n",
              "      border-right-color: var(--fill-color);\n",
              "      border-top-color: var(--fill-color);\n",
              "    }\n",
              "    60% {\n",
              "      border-color: transparent;\n",
              "      border-right-color: var(--fill-color);\n",
              "    }\n",
              "    80% {\n",
              "      border-color: transparent;\n",
              "      border-right-color: var(--fill-color);\n",
              "      border-bottom-color: var(--fill-color);\n",
              "    }\n",
              "    90% {\n",
              "      border-color: transparent;\n",
              "      border-bottom-color: var(--fill-color);\n",
              "    }\n",
              "  }\n",
              "</style>\n",
              "\n",
              "  <script>\n",
              "    async function quickchart(key) {\n",
              "      const quickchartButtonEl =\n",
              "        document.querySelector('#' + key + ' button');\n",
              "      quickchartButtonEl.disabled = true;  // To prevent multiple clicks.\n",
              "      quickchartButtonEl.classList.add('colab-df-spinner');\n",
              "      try {\n",
              "        const charts = await google.colab.kernel.invokeFunction(\n",
              "            'suggestCharts', [key], {});\n",
              "      } catch (error) {\n",
              "        console.error('Error during call to suggestCharts:', error);\n",
              "      }\n",
              "      quickchartButtonEl.classList.remove('colab-df-spinner');\n",
              "      quickchartButtonEl.classList.add('colab-df-quickchart-complete');\n",
              "    }\n",
              "    (() => {\n",
              "      let quickchartButtonEl =\n",
              "        document.querySelector('#df-a288d67a-f2d4-4ba4-b0a6-26f51208bb36 button');\n",
              "      quickchartButtonEl.style.display =\n",
              "        google.colab.kernel.accessAllowed ? 'block' : 'none';\n",
              "    })();\n",
              "  </script>\n",
              "</div>\n",
              "\n",
              "  <div id=\"id_7b14a4d5-51f0-4e09-bce7-314b8ff267f6\">\n",
              "    <style>\n",
              "      .colab-df-generate {\n",
              "        background-color: #E8F0FE;\n",
              "        border: none;\n",
              "        border-radius: 50%;\n",
              "        cursor: pointer;\n",
              "        display: none;\n",
              "        fill: #1967D2;\n",
              "        height: 32px;\n",
              "        padding: 0 0 0 0;\n",
              "        width: 32px;\n",
              "      }\n",
              "\n",
              "      .colab-df-generate:hover {\n",
              "        background-color: #E2EBFA;\n",
              "        box-shadow: 0px 1px 2px rgba(60, 64, 67, 0.3), 0px 1px 3px 1px rgba(60, 64, 67, 0.15);\n",
              "        fill: #174EA6;\n",
              "      }\n",
              "\n",
              "      [theme=dark] .colab-df-generate {\n",
              "        background-color: #3B4455;\n",
              "        fill: #D2E3FC;\n",
              "      }\n",
              "\n",
              "      [theme=dark] .colab-df-generate:hover {\n",
              "        background-color: #434B5C;\n",
              "        box-shadow: 0px 1px 3px 1px rgba(0, 0, 0, 0.15);\n",
              "        filter: drop-shadow(0px 1px 2px rgba(0, 0, 0, 0.3));\n",
              "        fill: #FFFFFF;\n",
              "      }\n",
              "    </style>\n",
              "    <button class=\"colab-df-generate\" onclick=\"generateWithVariable('data')\"\n",
              "            title=\"Generate code using this dataframe.\"\n",
              "            style=\"display:none;\">\n",
              "\n",
              "  <svg xmlns=\"http://www.w3.org/2000/svg\" height=\"24px\"viewBox=\"0 0 24 24\"\n",
              "       width=\"24px\">\n",
              "    <path d=\"M7,19H8.4L18.45,9,17,7.55,7,17.6ZM5,21V16.75L18.45,3.32a2,2,0,0,1,2.83,0l1.4,1.43a1.91,1.91,0,0,1,.58,1.4,1.91,1.91,0,0,1-.58,1.4L9.25,21ZM18.45,9,17,7.55Zm-12,3A5.31,5.31,0,0,0,4.9,8.1,5.31,5.31,0,0,0,1,6.5,5.31,5.31,0,0,0,4.9,4.9,5.31,5.31,0,0,0,6.5,1,5.31,5.31,0,0,0,8.1,4.9,5.31,5.31,0,0,0,12,6.5,5.46,5.46,0,0,0,6.5,12Z\"/>\n",
              "  </svg>\n",
              "    </button>\n",
              "    <script>\n",
              "      (() => {\n",
              "      const buttonEl =\n",
              "        document.querySelector('#id_7b14a4d5-51f0-4e09-bce7-314b8ff267f6 button.colab-df-generate');\n",
              "      buttonEl.style.display =\n",
              "        google.colab.kernel.accessAllowed ? 'block' : 'none';\n",
              "\n",
              "      buttonEl.onclick = () => {\n",
              "        google.colab.notebook.generateWithVariable('data');\n",
              "      }\n",
              "      })();\n",
              "    </script>\n",
              "  </div>\n",
              "\n",
              "    </div>\n",
              "  </div>\n"
            ],
            "text/plain": [
              "      User ID Subscription Type  Monthly Revenue Join Date Last Payment Date  \\\n",
              "0           1             Basic               10  15-01-22          10-06-23   \n",
              "1           2           Premium               15  05-09-21          22-06-23   \n",
              "2           3          Standard               12  28-02-23          27-06-23   \n",
              "3           4          Standard               12  10-07-22          26-06-23   \n",
              "4           5             Basic               10  01-05-23          28-06-23   \n",
              "...       ...               ...              ...       ...               ...   \n",
              "2495     2496           Premium               14  25-07-22          12-07-23   \n",
              "2496     2497             Basic               15  04-08-22          14-07-23   \n",
              "2497     2498          Standard               12  09-08-22          15-07-23   \n",
              "2498     2499          Standard               13  12-08-22          12-07-23   \n",
              "2499     2500             Basic               15  13-08-22          12-07-23   \n",
              "\n",
              "             Country  Age  Gender      Device Plan Duration  \n",
              "0      United States   28    Male  Smartphone       1 Month  \n",
              "1             Canada   35  Female      Tablet       1 Month  \n",
              "2     United Kingdom   42    Male    Smart TV       1 Month  \n",
              "3          Australia   51  Female      Laptop       1 Month  \n",
              "4            Germany   33    Male  Smartphone       1 Month  \n",
              "...              ...  ...     ...         ...           ...  \n",
              "2495           Spain   28  Female    Smart TV       1 Month  \n",
              "2496           Spain   33  Female    Smart TV       1 Month  \n",
              "2497   United States   38    Male      Laptop       1 Month  \n",
              "2498          Canada   48  Female      Tablet       1 Month  \n",
              "2499   United States   35  Female    Smart TV       1 Month  \n",
              "\n",
              "[2500 rows x 10 columns]"
            ]
          },
          "execution_count": 3,
          "metadata": {},
          "output_type": "execute_result"
        }
      ],
      "source": [
        "#Displaying the raw data\n",
        "data"
      ]
    },
    {
      "cell_type": "code",
      "execution_count": null,
      "id": "c553322e-e07e-44cf-831e-faa8c5df62af",
      "metadata": {
        "id": "c553322e-e07e-44cf-831e-faa8c5df62af",
        "outputId": "6a68f95f-b939-487f-85b7-d6011198a1c7"
      },
      "outputs": [
        {
          "data": {
            "text/html": [
              "<div>\n",
              "<style scoped>\n",
              "    .dataframe tbody tr th:only-of-type {\n",
              "        vertical-align: middle;\n",
              "    }\n",
              "\n",
              "    .dataframe tbody tr th {\n",
              "        vertical-align: top;\n",
              "    }\n",
              "\n",
              "    .dataframe thead th {\n",
              "        text-align: right;\n",
              "    }\n",
              "</style>\n",
              "<table border=\"1\" class=\"dataframe\">\n",
              "  <thead>\n",
              "    <tr style=\"text-align: right;\">\n",
              "      <th></th>\n",
              "      <th>User ID</th>\n",
              "      <th>Monthly Revenue</th>\n",
              "      <th>Age</th>\n",
              "    </tr>\n",
              "  </thead>\n",
              "  <tbody>\n",
              "    <tr>\n",
              "      <th>count</th>\n",
              "      <td>2500.00000</td>\n",
              "      <td>2500.000000</td>\n",
              "      <td>2500.000000</td>\n",
              "    </tr>\n",
              "    <tr>\n",
              "      <th>mean</th>\n",
              "      <td>1250.50000</td>\n",
              "      <td>12.508400</td>\n",
              "      <td>38.795600</td>\n",
              "    </tr>\n",
              "    <tr>\n",
              "      <th>std</th>\n",
              "      <td>721.83216</td>\n",
              "      <td>1.686851</td>\n",
              "      <td>7.171778</td>\n",
              "    </tr>\n",
              "    <tr>\n",
              "      <th>min</th>\n",
              "      <td>1.00000</td>\n",
              "      <td>10.000000</td>\n",
              "      <td>26.000000</td>\n",
              "    </tr>\n",
              "    <tr>\n",
              "      <th>25%</th>\n",
              "      <td>625.75000</td>\n",
              "      <td>11.000000</td>\n",
              "      <td>32.000000</td>\n",
              "    </tr>\n",
              "    <tr>\n",
              "      <th>50%</th>\n",
              "      <td>1250.50000</td>\n",
              "      <td>12.000000</td>\n",
              "      <td>39.000000</td>\n",
              "    </tr>\n",
              "    <tr>\n",
              "      <th>75%</th>\n",
              "      <td>1875.25000</td>\n",
              "      <td>14.000000</td>\n",
              "      <td>45.000000</td>\n",
              "    </tr>\n",
              "    <tr>\n",
              "      <th>max</th>\n",
              "      <td>2500.00000</td>\n",
              "      <td>15.000000</td>\n",
              "      <td>51.000000</td>\n",
              "    </tr>\n",
              "  </tbody>\n",
              "</table>\n",
              "</div>"
            ],
            "text/plain": [
              "          User ID  Monthly Revenue          Age\n",
              "count  2500.00000      2500.000000  2500.000000\n",
              "mean   1250.50000        12.508400    38.795600\n",
              "std     721.83216         1.686851     7.171778\n",
              "min       1.00000        10.000000    26.000000\n",
              "25%     625.75000        11.000000    32.000000\n",
              "50%    1250.50000        12.000000    39.000000\n",
              "75%    1875.25000        14.000000    45.000000\n",
              "max    2500.00000        15.000000    51.000000"
            ]
          },
          "execution_count": 9,
          "metadata": {},
          "output_type": "execute_result"
        }
      ],
      "source": [
        "#Statistical Summary\n",
        "data.describe()"
      ]
    },
    {
      "cell_type": "markdown",
      "id": "e9c04f96-3128-4c3d-8928-d3bc30d5c32a",
      "metadata": {
        "id": "e9c04f96-3128-4c3d-8928-d3bc30d5c32a"
      },
      "source": [
        "The above results returns the statistical analysis of the numerical columns. In this case only UserID,\n",
        "Monthly Revenue and Age are the numerical columns. Some information from the above analysis is that the dataset\n",
        "is working with ages in the range from 26 to 51 years. Also the minimum monthly revenue is 10 dollars. This result gives a good statistical summary of the dataset."
      ]
    },
    {
      "cell_type": "code",
      "execution_count": null,
      "id": "8bca5746-64f9-4bfa-9c19-dc24d58233b6",
      "metadata": {
        "id": "8bca5746-64f9-4bfa-9c19-dc24d58233b6",
        "outputId": "522e60a9-0318-41b8-e761-32072a54a4eb"
      },
      "outputs": [
        {
          "name": "stdout",
          "output_type": "stream",
          "text": [
            "<class 'pandas.core.frame.DataFrame'>\n",
            "RangeIndex: 2500 entries, 0 to 2499\n",
            "Data columns (total 10 columns):\n",
            " #   Column             Non-Null Count  Dtype \n",
            "---  ------             --------------  ----- \n",
            " 0   User ID            2500 non-null   int64 \n",
            " 1   Subscription Type  2500 non-null   object\n",
            " 2   Monthly Revenue    2500 non-null   int64 \n",
            " 3   Join Date          2500 non-null   object\n",
            " 4   Last Payment Date  2500 non-null   object\n",
            " 5   Country            2500 non-null   object\n",
            " 6   Age                2500 non-null   int64 \n",
            " 7   Gender             2500 non-null   object\n",
            " 8   Device             2500 non-null   object\n",
            " 9   Plan Duration      2500 non-null   object\n",
            "dtypes: int64(3), object(7)\n",
            "memory usage: 195.4+ KB\n"
          ]
        }
      ],
      "source": [
        "# Data Information\n",
        "data.info()"
      ]
    },
    {
      "cell_type": "markdown",
      "id": "82760fba-7518-4b1b-bd17-69956c29e806",
      "metadata": {
        "id": "82760fba-7518-4b1b-bd17-69956c29e806"
      },
      "source": [
        "The above result gives a good summary of the entire dataset, including the type of the data it is working with. From above, it can be observed that the dataset has two types of data, which are integers(observed in the statistical summary) and objects(referring to text data). It has 10 columns and 2500 rows."
      ]
    },
    {
      "cell_type": "code",
      "execution_count": 5,
      "id": "keuh2XdDZ29g",
      "metadata": {
        "colab": {
          "base_uri": "https://localhost:8080/"
        },
        "id": "keuh2XdDZ29g",
        "outputId": "831ca2ef-69a5-4f16-85d2-1cdbc1b26c5c"
      },
      "outputs": [
        {
          "data": {
            "text/plain": [
              "User ID              0\n",
              "Subscription Type    0\n",
              "Monthly Revenue      0\n",
              "Join Date            0\n",
              "Last Payment Date    0\n",
              "Country              0\n",
              "Age                  0\n",
              "Gender               0\n",
              "Device               0\n",
              "Plan Duration        0\n",
              "dtype: int64"
            ]
          },
          "execution_count": 5,
          "metadata": {},
          "output_type": "execute_result"
        }
      ],
      "source": [
        "#Explicitly checking for missing values\n",
        "data.isnull().sum()"
      ]
    },
    {
      "cell_type": "code",
      "execution_count": 8,
      "id": "oJK6cKxsaciO",
      "metadata": {
        "colab": {
          "base_uri": "https://localhost:8080/"
        },
        "id": "oJK6cKxsaciO",
        "outputId": "df7f800b-f4db-4377-b153-6c6766216fcf"
      },
      "outputs": [
        {
          "data": {
            "text/plain": [
              "0"
            ]
          },
          "execution_count": 8,
          "metadata": {},
          "output_type": "execute_result"
        }
      ],
      "source": [
        "#Check for duplicates\n",
        "data.duplicated().sum()"
      ]
    },
    {
      "cell_type": "markdown",
      "id": "FgbNpmZTaoiL",
      "metadata": {
        "id": "FgbNpmZTaoiL"
      },
      "source": [
        "From the above 2 cells, it can be observed that the data is clean with no missing or duplicated entries. So, we can move on to further analysis and visualizations."
      ]
    },
    {
      "cell_type": "markdown",
      "id": "e76cf029-d9e4-4352-9c7f-a5a3a40f1449",
      "metadata": {
        "id": "e76cf029-d9e4-4352-9c7f-a5a3a40f1449"
      },
      "source": [
        "**Data Visualization**"
      ]
    },
    {
      "cell_type": "markdown",
      "id": "be77b7d3-a9fc-4041-a51e-bb6acaf9dfec",
      "metadata": {
        "id": "be77b7d3-a9fc-4041-a51e-bb6acaf9dfec"
      },
      "source": [
        "**1. Compare the subscription types to see which is mostly used.**"
      ]
    },
    {
      "cell_type": "code",
      "execution_count": null,
      "id": "abfd8460-0e6b-4060-ac6a-902e19fef293",
      "metadata": {
        "id": "abfd8460-0e6b-4060-ac6a-902e19fef293",
        "outputId": "d679fabd-752b-4511-93a5-fef7001480c3"
      },
      "outputs": [
        {
          "data": {
            "text/plain": [
              "0          Basic\n",
              "1        Premium\n",
              "2       Standard\n",
              "3       Standard\n",
              "4          Basic\n",
              "          ...   \n",
              "2495     Premium\n",
              "2496       Basic\n",
              "2497    Standard\n",
              "2498    Standard\n",
              "2499       Basic\n",
              "Name: Subscription Type, Length: 2500, dtype: object"
            ]
          },
          "execution_count": 11,
          "metadata": {},
          "output_type": "execute_result"
        }
      ],
      "source": [
        "#Using the Subscription Type Column\n",
        "sub_type = data[data.columns[1]]\n",
        "sub_type"
      ]
    },
    {
      "cell_type": "markdown",
      "id": "5f11e077-5ff2-457b-9e46-6ea5d155142b",
      "metadata": {
        "id": "5f11e077-5ff2-457b-9e46-6ea5d155142b"
      },
      "source": [
        "The above data is text, so we cannot plot from the above step. Instead,\n",
        "I will have to group the data before plotting."
      ]
    },
    {
      "cell_type": "markdown",
      "id": "2253828d-1cf7-4a27-9f77-cf1d0034faa9",
      "metadata": {
        "id": "2253828d-1cf7-4a27-9f77-cf1d0034faa9"
      },
      "source": [
        "To do this, I will use the value_count() method to count the unique entries under the Subscription Type column.\n",
        "This will allow me to plot since the interval counts will be numerical."
      ]
    },
    {
      "cell_type": "code",
      "execution_count": null,
      "id": "dc785039-461f-4a1d-a5a7-4f12691f51e3",
      "metadata": {
        "id": "dc785039-461f-4a1d-a5a7-4f12691f51e3"
      },
      "outputs": [],
      "source": [
        "#Counting the unique values in column Subscription Type\n",
        "sub_count = data['Subscription Type'].value_counts()"
      ]
    },
    {
      "cell_type": "code",
      "execution_count": null,
      "id": "38f08a3f-b1db-45ae-8834-ceb7c6b5c54d",
      "metadata": {
        "id": "38f08a3f-b1db-45ae-8834-ceb7c6b5c54d",
        "outputId": "a743323c-bb32-4671-ef23-b6a885d12a60"
      },
      "outputs": [
        {
          "data": {
            "image/png": "[encoded data removed]",
            "text/plain": [
              "<Figure size 400x500 with 1 Axes>"
            ]
          },
          "metadata": {},
          "output_type": "display_data"
        }
      ],
      "source": [
        "#Plotting the counts to compare the data\n",
        "style.use('ggplot')\n",
        "plot.figure(figsize = (4,5))\n",
        "color = ['hotpink', 'purple', 'green']\n",
        "plot.bar(x = sub_count.index, height = sub_count.values, color = color, width = 0.5)\n",
        "plot.title('Distribution of Users by Subscription Type')\n",
        "plot.xlabel('Subscription Type')\n",
        "plot.ylabel('Number of Users')\n",
        "\n",
        "plot.show()"
      ]
    },
    {
      "cell_type": "markdown",
      "id": "f67b0c4f-63f3-4d9e-bf09-ce4e23e33ed2",
      "metadata": {
        "id": "f67b0c4f-63f3-4d9e-bf09-ce4e23e33ed2"
      },
      "source": [
        "**2. See which gender watches Netflix the most**"
      ]
    },
    {
      "cell_type": "code",
      "execution_count": null,
      "id": "65df5480-16a4-4839-8bb0-59a3d2af5ec1",
      "metadata": {
        "id": "65df5480-16a4-4839-8bb0-59a3d2af5ec1",
        "outputId": "b74f0a3d-3dcc-4ffa-a82d-68f389d1aecf"
      },
      "outputs": [
        {
          "data": {
            "text/plain": [
              "0         Male\n",
              "1       Female\n",
              "2         Male\n",
              "3       Female\n",
              "4         Male\n",
              "         ...  \n",
              "2495    Female\n",
              "2496    Female\n",
              "2497      Male\n",
              "2498    Female\n",
              "2499    Female\n",
              "Name: Gender, Length: 2500, dtype: object"
            ]
          },
          "execution_count": 49,
          "metadata": {},
          "output_type": "execute_result"
        }
      ],
      "source": [
        "#Using the Gender Column\n",
        "gender = data[data.columns[7]]\n",
        "gender"
      ]
    },
    {
      "cell_type": "code",
      "execution_count": null,
      "id": "c27c0c94-c4db-4d77-8bda-ef2ebbb371ee",
      "metadata": {
        "id": "c27c0c94-c4db-4d77-8bda-ef2ebbb371ee"
      },
      "outputs": [],
      "source": [
        "gender_count = data['Gender'].value_counts()"
      ]
    },
    {
      "cell_type": "code",
      "execution_count": null,
      "id": "21dbe081-906f-4d2b-ba1c-06c9fc450b5a",
      "metadata": {
        "id": "21dbe081-906f-4d2b-ba1c-06c9fc450b5a",
        "outputId": "9b582667-1619-49c2-83fa-5e7e727ec970"
      },
      "outputs": [
        {
          "data": {
            "image/png": "[encoded data removed]",
            "text/plain": [
              "<Figure size 800x300 with 1 Axes>"
            ]
          },
          "metadata": {},
          "output_type": "display_data"
        }
      ],
      "source": [
        "#Plotting the counts to compare the data\n",
        "style.use('ggplot')\n",
        "plot.figure(figsize = (8,3))\n",
        "color = ['blue', 'black', 'green']\n",
        "plot.barh(y = gender_count.index, width = gender_count.values, color = color)\n",
        "plot.title('Distribution of Users by Gender')\n",
        "plot.xlabel('Number of Users')\n",
        "plot.ylabel('Gender')\n",
        "\n",
        "plot.show()"
      ]
    },
    {
      "cell_type": "markdown",
      "id": "ebb63e57-0d7d-4117-8a88-3b9caa8e9b46",
      "metadata": {
        "id": "ebb63e57-0d7d-4117-8a88-3b9caa8e9b46"
      },
      "source": [
        "By a very small margin, females watch Netflix more that males, according to this dataset."
      ]
    },
    {
      "cell_type": "markdown",
      "id": "d4f643c4-ecf0-4633-99c0-dab3c7596231",
      "metadata": {
        "id": "d4f643c4-ecf0-4633-99c0-dab3c7596231"
      },
      "source": [
        "3.Use the device colum to see which device is used the most"
      ]
    },
    {
      "cell_type": "code",
      "execution_count": null,
      "id": "8b910bbf-0676-4ad5-b2f2-058b540dccfe",
      "metadata": {
        "id": "8b910bbf-0676-4ad5-b2f2-058b540dccfe",
        "outputId": "69474249-8fd1-4fba-ab4b-46dcd6564b7b"
      },
      "outputs": [
        {
          "data": {
            "text/plain": [
              "0       Smartphone\n",
              "1           Tablet\n",
              "2         Smart TV\n",
              "3           Laptop\n",
              "4       Smartphone\n",
              "           ...    \n",
              "2495      Smart TV\n",
              "2496      Smart TV\n",
              "2497        Laptop\n",
              "2498        Tablet\n",
              "2499      Smart TV\n",
              "Name: Device, Length: 2500, dtype: object"
            ]
          },
          "execution_count": 57,
          "metadata": {},
          "output_type": "execute_result"
        }
      ],
      "source": [
        "#Using the Gender Column\n",
        "devices = data[data.columns[8]]\n",
        "devices"
      ]
    },
    {
      "cell_type": "code",
      "execution_count": null,
      "id": "13c1ffc5-ccea-42f7-9e2f-846f37fe9c56",
      "metadata": {
        "id": "13c1ffc5-ccea-42f7-9e2f-846f37fe9c56",
        "outputId": "74d568d4-65b6-414e-ab3b-9123b97a4b21"
      },
      "outputs": [
        {
          "data": {
            "text/plain": [
              "Device\n",
              "Laptop        636\n",
              "Tablet        633\n",
              "Smartphone    621\n",
              "Smart TV      610\n",
              "Name: count, dtype: int64"
            ]
          },
          "execution_count": 61,
          "metadata": {},
          "output_type": "execute_result"
        }
      ],
      "source": [
        "device_count = data['Device'].value_counts()\n",
        "device_count"
      ]
    },
    {
      "cell_type": "code",
      "execution_count": null,
      "id": "0ff289d3-fb17-44b1-bc25-a2a6753b05fd",
      "metadata": {
        "id": "0ff289d3-fb17-44b1-bc25-a2a6753b05fd",
        "outputId": "d877e37c-45bc-4f99-8133-88c7419e27de"
      },
      "outputs": [
        {
          "data": {
            "image/png": "[encoded data removed]",
            "text/plain": [
              "<Figure size 640x480 with 1 Axes>"
            ]
          },
          "metadata": {},
          "output_type": "display_data"
        }
      ],
      "source": [
        "#Plotting the counts to compare the data\n",
        "style.use('ggplot')\n",
        "\n",
        "color = ['hotpink', 'blue', 'purple', 'green']\n",
        "labels  = ['Smart TV', 'Tablet', 'Laptop', 'Smartphone']\n",
        "plot.pie(device_count, explode = (0.2,0,0,0), colors = color, autopct = '%.1f%%', shadow = True, startangle = 90)\n",
        "\n",
        "plot.legend(labels)\n",
        "\n",
        "plot.axis(\"Equal\")\n",
        "plot.tight_layout()\n",
        "\n",
        "plot.show()"
      ]
    },
    {
      "cell_type": "markdown",
      "id": "93a24dec-90ac-412e-986f-47620f2d4dcf",
      "metadata": {
        "id": "93a24dec-90ac-412e-986f-47620f2d4dcf"
      },
      "source": [
        "4. Use the monthly revenue column"
      ]
    },
    {
      "cell_type": "code",
      "execution_count": null,
      "id": "7b1e51b0-fbf3-403f-8132-095cb71562a6",
      "metadata": {
        "id": "7b1e51b0-fbf3-403f-8132-095cb71562a6",
        "outputId": "77b58b5a-ddfa-4d77-9b97-8c2a6ce54deb"
      },
      "outputs": [
        {
          "data": {
            "text/plain": [
              "0       10\n",
              "1       15\n",
              "2       12\n",
              "3       12\n",
              "4       10\n",
              "        ..\n",
              "2495    14\n",
              "2496    15\n",
              "2497    12\n",
              "2498    13\n",
              "2499    15\n",
              "Name: Monthly Revenue, Length: 2500, dtype: int64"
            ]
          },
          "execution_count": 77,
          "metadata": {},
          "output_type": "execute_result"
        }
      ],
      "source": [
        "revenue = data[data.columns[2]]\n",
        "revenue"
      ]
    },
    {
      "cell_type": "code",
      "execution_count": null,
      "id": "5e722884-0613-4dd4-94b1-c104dcb5b9f5",
      "metadata": {
        "id": "5e722884-0613-4dd4-94b1-c104dcb5b9f5",
        "outputId": "f17c7bcb-9105-4136-a67a-acb58fa6d5bf"
      },
      "outputs": [
        {
          "data": {
            "image/png": "[encoded data removed]",
            "text/plain": [
              "<Figure size 800x300 with 1 Axes>"
            ]
          },
          "metadata": {},
          "output_type": "display_data"
        }
      ],
      "source": [
        "#Histogram to compare monthly revenues\n",
        "style.use('ggplot')\n",
        "plot.figure(figsize = (8,3))\n",
        "plot.hist(data['Monthly Revenue'], bins = 15, color = 'red')\n",
        "plot.title('Distribution of Monthly Revenues')\n",
        "plot.xlabel('Monthly Revenue')\n",
        "plot.ylabel('Frequency')\n",
        "plot.show()"
      ]
    },
    {
      "cell_type": "markdown",
      "id": "f4d901db-c07f-42a4-89b2-b84de9bc5099",
      "metadata": {
        "id": "f4d901db-c07f-42a4-89b2-b84de9bc5099"
      },
      "source": [
        "5. See with age group using which device the most"
      ]
    },
    {
      "cell_type": "code",
      "execution_count": null,
      "id": "3a09bf36-5b2f-40c8-8601-08707e81f6d8",
      "metadata": {
        "id": "3a09bf36-5b2f-40c8-8601-08707e81f6d8",
        "outputId": "72c64c3b-2a71-495e-c755-11b30a4726d3"
      },
      "outputs": [
        {
          "data": {
            "text/plain": [
              "0       28\n",
              "1       35\n",
              "2       42\n",
              "3       51\n",
              "4       33\n",
              "        ..\n",
              "2495    28\n",
              "2496    33\n",
              "2497    38\n",
              "2498    48\n",
              "2499    35\n",
              "Name: Age, Length: 2500, dtype: int64"
            ]
          },
          "execution_count": 85,
          "metadata": {},
          "output_type": "execute_result"
        }
      ],
      "source": [
        "age = data[data.columns[6]]\n",
        "age"
      ]
    },
    {
      "cell_type": "code",
      "execution_count": null,
      "id": "366b4986-5c01-4a38-b5f0-66ffe1569bc7",
      "metadata": {
        "id": "366b4986-5c01-4a38-b5f0-66ffe1569bc7",
        "outputId": "bf0a57c9-8274-4801-9a83-a6b58b0d87c3"
      },
      "outputs": [
        {
          "data": {
            "text/plain": [
              "Age\n",
              "39    116\n",
              "30    116\n",
              "28    115\n",
              "31    115\n",
              "41    114\n",
              "47    111\n",
              "37    107\n",
              "35    105\n",
              "29    104\n",
              "40    103\n",
              "42    102\n",
              "48    101\n",
              "46     99\n",
              "36     99\n",
              "49     97\n",
              "43     94\n",
              "33     93\n",
              "51     93\n",
              "32     92\n",
              "45     89\n",
              "38     89\n",
              "34     88\n",
              "27     87\n",
              "44     86\n",
              "50     84\n",
              "26      1\n",
              "Name: count, dtype: int64"
            ]
          },
          "execution_count": 88,
          "metadata": {},
          "output_type": "execute_result"
        }
      ],
      "source": [
        "age_count = data['Age'].value_counts()\n",
        "age_count"
      ]
    },
    {
      "cell_type": "code",
      "execution_count": null,
      "id": "eb9be421-5ef5-4aba-a7c3-f85259473f9f",
      "metadata": {
        "id": "eb9be421-5ef5-4aba-a7c3-f85259473f9f"
      },
      "outputs": [],
      "source": [
        "#The ages in the above column are grouped in intervals, 0-10, 11-20 and so on. The the cut() method is used to divide the data in the\n",
        "#column according to the specified intervals. Then the value_count() method is used to count entries in each interval\n",
        "intervals = [0,10,20,30,40,50,60]\n",
        "data['Age_groups'] = pd.cut(data['Age'], bins = intervals)\n",
        "Age_groups = data['Age_groups'].value_counts()"
      ]
    },
    {
      "cell_type": "code",
      "execution_count": null,
      "id": "f319bc60-f69d-4f4e-bf34-00e7149867df",
      "metadata": {
        "id": "f319bc60-f69d-4f4e-bf34-00e7149867df",
        "outputId": "5c0042d3-492c-462c-b706-9dfd910b4aa0"
      },
      "outputs": [
        {
          "data": {
            "image/png": "[encoded data removed]",
            "text/plain": [
              "<Figure size 640x480 with 1 Axes>"
            ]
          },
          "metadata": {},
          "output_type": "display_data"
        }
      ],
      "source": [
        "color = ['hotpink', 'blue', 'purple', 'green', 'brown', 'red']\n",
        "labels  = ['0-10 years','11-20 years','21-30 years', '31-40 years','41-50 years', '51-60 years']\n",
        "plot.pie(Age_groups, colors = color,autopct = '%.1f%%', shadow = True, startangle = 270)\n",
        "\n",
        "plot.legend(labels)\n",
        "\n",
        "plot.axis(\"Equal\")\n",
        "plot.tight_layout()\n",
        "\n",
        "plot.show()"
      ]
    },
    {
      "cell_type": "markdown",
      "id": "314c29fa-2cd3-4e80-bdcb-f7eb485ad28e",
      "metadata": {
        "id": "314c29fa-2cd3-4e80-bdcb-f7eb485ad28e"
      },
      "source": [
        "From the above analysis, it can be observed that individuals in the age group 0-10 years old spend more time on Netflix compared to the 51-60 years\n",
        "age group that is barely even showing in the plot."
      ]
    },
    {
      "cell_type": "markdown",
      "id": "t4CWA1zlbzbu",
      "metadata": {
        "id": "t4CWA1zlbzbu"
      },
      "source": [
        "More insights can be extracted and showcased from this dataset but for my presentation, I will end here."
      ]
    },
    {
      "cell_type": "code",
      "execution_count": null,
      "id": "15f167e8-d226-425b-8075-0d6fb0e8783a",
      "metadata": {
        "id": "15f167e8-d226-425b-8075-0d6fb0e8783a"
      },
      "outputs": [],
      "source": []
    }
  ],
  "metadata": {
    "colab": {
      "provenance": []
    },
    "kernelspec": {
      "display_name": "Python 3 (ipykernel)",
      "language": "python",
      "name": "python3"
    },
    "language_info": {
      "codemirror_mode": {
        "name": "ipython",
        "version": 3
      },
      "file_extension": ".py",
      "mimetype": "text/x-python",
      "name": "python",
      "nbconvert_exporter": "python",
      "pygments_lexer": "ipython3",
      "version": "3.11.7"
    }
  },
  "nbformat": 4,
  "nbformat_minor": 5
}
